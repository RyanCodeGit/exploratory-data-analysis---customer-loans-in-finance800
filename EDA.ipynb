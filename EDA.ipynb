{
 "cells": [
  {
   "cell_type": "markdown",
   "metadata": {},
   "source": [
    "# Exploratory Data Analysis: Loan Payments\n",
    "\n",
    "The aim of this project is to conduct exploratory data analysis (EDA) on a database of loan payments for a financial institution.\n",
    "\n",
    "The code block below initialises the SQL table we will be using to perform this analysis as a Pandas dataframe using the 'db_utils.py' script included in the root directory of this project."
   ]
  },
  {
   "cell_type": "code",
   "execution_count": null,
   "metadata": {},
   "outputs": [],
   "source": [
    "import db_utils as dbu\n",
    "\n",
    "credentials = dbu.load_yaml('credentials.yaml')\n",
    "data = dbu.RDSDatabaseConnector(credentials)\n",
    "data.start_sqlalchemy_engine()\n",
    "df = data.get_data('loan_payments')"
   ]
  }
 ],
 "metadata": {
  "kernelspec": {
   "display_name": "base",
   "language": "python",
   "name": "python3"
  },
  "language_info": {
   "codemirror_mode": {
    "name": "ipython",
    "version": 3
   },
   "file_extension": ".py",
   "mimetype": "text/x-python",
   "name": "python",
   "nbconvert_exporter": "python",
   "pygments_lexer": "ipython3",
   "version": "3.11.7"
  }
 },
 "nbformat": 4,
 "nbformat_minor": 2
}
