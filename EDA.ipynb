{
 "cells": [
  {
   "cell_type": "markdown",
   "metadata": {},
   "source": [
    "# Exploratory Data Analysis: Loan Payments\n",
    "\n",
    "The aim of this project is to conduct exploratory data analysis (EDA) on a database of loan payments for a financial institution.\n",
    "\n",
    "The code block below initialises the SQL table we will be using to perform this analysis as a Pandas dataframe using the 'db_utils.py' script included in the root directory of this project."
   ]
  },
  {
   "cell_type": "code",
   "execution_count": 1,
   "metadata": {},
   "outputs": [],
   "source": [
    "import db_utils as dbu\n",
    "import pandas as pd\n",
    "\n",
    "credentials = dbu.load_yaml('credentials.yaml')\n",
    "data = dbu.RDSDatabaseConnector(credentials)\n",
    "data.start_sqlalchemy_engine()\n",
    "df = data.get_data('loan_payments') # turning SQL table into a Pandas dataframe\n",
    "pd.set_option('display.max_columns', 50) # SQL table has 43 columns, pandas shows default 9"
   ]
  },
  {
   "cell_type": "markdown",
   "metadata": {},
   "source": [
    "#### Columns with null data \n",
    "- funded_amount,\n",
    "- term,\n",
    "- int_rate,\n",
    "- employment_length,\n",
    "- mths_since_last_delinq,\n",
    "- mths_since_last_record,\n",
    "- last_payment_date,\n",
    "- next_payment_date,\n",
    "- last_credit_pull_date,\n",
    "- collections_12_mths_ex_med,\n",
    "- mths_since_last_major_derog \n",
    "\n",
    "#### Columns to Convert\n",
    "- term: category OK, null data present\n",
    "- grade: category OK\n",
    "- sub_grade: category OK\n",
    "- employment_length: category OK, null data present\n",
    "- home_ownership: category OK\n",
    "- verification_status: category OK\n",
    "- loan_status: category OK\n",
    "- payment_plan: category OK, but 99.9% of data is n, only 1 response y, potential unnecessary column\n",
    "- purpose: category OK\n",
    "- application_type: category OK, but unnecessary column since only 1 type of response\n",
    "- issue_date: period\n",
    "- earliest_credit_line: period\n",
    "- last_payment_date: period\n",
    "- next_payment_date: period\n",
    "- last_credit_pull_date: period\n"
   ]
  },
  {
   "cell_type": "code",
   "execution_count": 2,
   "metadata": {},
   "outputs": [],
   "source": [
    "# Converting categorical data columns from object to category data type\n",
    "category_columns = [\"term\", \"grade\", \"sub_grade\", \"employment_length\", \"home_ownership\", \"verification_status\", \"loan_status\", \"payment_plan\", \"purpose\", \"application_type\"]\n",
    "convert_to_categories = dbu.DataTransform(df, category_columns)\n",
    "df = convert_to_categories.to_category()"
   ]
  },
  {
   "cell_type": "code",
   "execution_count": 3,
   "metadata": {},
   "outputs": [],
   "source": [
    "# Converting columns containing dates from object(month, year) to period(M) data type\n",
    "date_columns = [\"issue_date\", \"earliest_credit_line\", \"last_payment_date\", \"next_payment_date\", \"last_credit_pull_date\"]\n",
    "convert_to_periods = dbu.DataTransform(df, date_columns)\n",
    "df = convert_to_periods.to_period()"
   ]
  }
 ],
 "metadata": {
  "kernelspec": {
   "display_name": "base",
   "language": "python",
   "name": "python3"
  },
  "language_info": {
   "codemirror_mode": {
    "name": "ipython",
    "version": 3
   },
   "file_extension": ".py",
   "mimetype": "text/x-python",
   "name": "python",
   "nbconvert_exporter": "python",
   "pygments_lexer": "ipython3",
   "version": "3.11.7"
  }
 },
 "nbformat": 4,
 "nbformat_minor": 2
}
